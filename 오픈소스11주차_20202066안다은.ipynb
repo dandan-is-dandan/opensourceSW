{
 "cells": [
  {
   "cell_type": "markdown",
   "id": "72e9995e-20cf-4fe9-b96b-32f5547a7aae",
   "metadata": {},
   "source": [
    "## 예제1"
   ]
  },
  {
   "cell_type": "code",
   "execution_count": 1,
   "id": "1a91b143-9794-4426-bc3a-e68c33a6adfe",
   "metadata": {},
   "outputs": [],
   "source": [
    "def factorial(n):\n",
    "    \"\"\"returns n!\"\"\"\n",
    "    return 1 if n<2 else n*factorial(n-1)"
   ]
  },
  {
   "cell_type": "code",
   "execution_count": 2,
   "id": "1618ec49-5fc5-4b7e-a98c-b1de2ad9456a",
   "metadata": {},
   "outputs": [
    {
     "data": {
      "text/plain": [
       "1405006117752879898543142606244511569936384000000000"
      ]
     },
     "execution_count": 2,
     "metadata": {},
     "output_type": "execute_result"
    }
   ],
   "source": [
    "factorial(42)"
   ]
  },
  {
   "cell_type": "code",
   "execution_count": 3,
   "id": "89bfa536-5bcb-4ec5-bbf0-d3fd728b4f92",
   "metadata": {},
   "outputs": [
    {
     "data": {
      "text/plain": [
       "'returns n!'"
      ]
     },
     "execution_count": 3,
     "metadata": {},
     "output_type": "execute_result"
    }
   ],
   "source": [
    "factorial.__doc__"
   ]
  },
  {
   "cell_type": "code",
   "execution_count": 4,
   "id": "6aeaeff4-616e-440d-aa9c-e99bddff019e",
   "metadata": {},
   "outputs": [
    {
     "data": {
      "text/plain": [
       "function"
      ]
     },
     "execution_count": 4,
     "metadata": {},
     "output_type": "execute_result"
    }
   ],
   "source": [
    "type(factorial)"
   ]
  },
  {
   "cell_type": "markdown",
   "id": "025d8338-37c3-4a4f-8b61-dcf0c350b776",
   "metadata": {},
   "source": [
    "## 예제2"
   ]
  },
  {
   "cell_type": "code",
   "execution_count": 5,
   "id": "8c9cc4f2-b616-4ec3-ae2e-3cb35677bfcc",
   "metadata": {},
   "outputs": [
    {
     "name": "stdout",
     "output_type": "stream",
     "text": [
      "Help on function factorial in module __main__:\n",
      "\n",
      "factorial(n)\n",
      "    returns n!\n",
      "\n"
     ]
    }
   ],
   "source": [
    "help(factorial)"
   ]
  },
  {
   "cell_type": "markdown",
   "id": "f0cd32e5-88d6-43b7-ae7a-a600b1714b01",
   "metadata": {},
   "source": [
    "## 예제3"
   ]
  },
  {
   "cell_type": "code",
   "execution_count": 6,
   "id": "59c76ac2-c71b-4f72-b2f1-f128217ac6ba",
   "metadata": {},
   "outputs": [
    {
     "data": {
      "text/plain": [
       "<function __main__.factorial(n)>"
      ]
     },
     "execution_count": 6,
     "metadata": {},
     "output_type": "execute_result"
    }
   ],
   "source": [
    "fact = factorial\n",
    "fact"
   ]
  },
  {
   "cell_type": "code",
   "execution_count": 7,
   "id": "da73d285-a42f-41ea-b7a2-995df06c52f1",
   "metadata": {},
   "outputs": [
    {
     "data": {
      "text/plain": [
       "<function __main__.factorial(n)>"
      ]
     },
     "execution_count": 7,
     "metadata": {},
     "output_type": "execute_result"
    }
   ],
   "source": [
    "factorial"
   ]
  },
  {
   "cell_type": "code",
   "execution_count": 8,
   "id": "0ed70e6c-2800-4ba9-a891-b3ab800ddea2",
   "metadata": {},
   "outputs": [
    {
     "data": {
      "text/plain": [
       "120"
      ]
     },
     "execution_count": 8,
     "metadata": {},
     "output_type": "execute_result"
    }
   ],
   "source": [
    "fact(5)"
   ]
  },
  {
   "cell_type": "code",
   "execution_count": 9,
   "id": "3529eb7e-6fd5-4d52-a93a-dff10e339c84",
   "metadata": {},
   "outputs": [
    {
     "data": {
      "text/plain": [
       "<map at 0x1a001d6cca0>"
      ]
     },
     "execution_count": 9,
     "metadata": {},
     "output_type": "execute_result"
    }
   ],
   "source": [
    "map(factorial, range(11))"
   ]
  },
  {
   "cell_type": "code",
   "execution_count": 10,
   "id": "b684acba-fa15-4d41-94bd-feb6b4110067",
   "metadata": {},
   "outputs": [
    {
     "data": {
      "text/plain": [
       "[1, 1, 2, 6, 24, 120, 720, 5040, 40320, 362880, 3628800]"
      ]
     },
     "execution_count": 10,
     "metadata": {},
     "output_type": "execute_result"
    }
   ],
   "source": [
    "list(map(fact, range(11)))"
   ]
  },
  {
   "cell_type": "markdown",
   "id": "ca1c8e48-7406-430d-be0c-a98f103a8f2b",
   "metadata": {},
   "source": [
    "## 예제4"
   ]
  },
  {
   "cell_type": "code",
   "execution_count": 11,
   "id": "39049de1-2133-4177-afe8-98f593992548",
   "metadata": {},
   "outputs": [
    {
     "data": {
      "text/plain": [
       "['fig', 'apple', 'cherry', 'banana', 'raspberry', 'strawberry']"
      ]
     },
     "execution_count": 11,
     "metadata": {},
     "output_type": "execute_result"
    }
   ],
   "source": [
    "fruits = ['strawberry', 'fig', 'apple', 'cherry', 'raspberry', 'banana']\n",
    "sorted(fruits, key=len)"
   ]
  },
  {
   "cell_type": "markdown",
   "id": "a31095a9-2b2d-4b53-afcb-18de465cc7c9",
   "metadata": {},
   "source": [
    "## 예제5"
   ]
  },
  {
   "cell_type": "code",
   "execution_count": 12,
   "id": "fd53e604-ebc0-4f0a-b7a2-09a90c3dc414",
   "metadata": {},
   "outputs": [
    {
     "data": {
      "text/plain": [
       "'gnitset'"
      ]
     },
     "execution_count": 12,
     "metadata": {},
     "output_type": "execute_result"
    }
   ],
   "source": [
    "def reverse(word):\n",
    "    return word[::-1]\n",
    "reverse('testing')"
   ]
  },
  {
   "cell_type": "code",
   "execution_count": 13,
   "id": "e61fa5aa-5088-403c-9ea8-80256f0b987b",
   "metadata": {},
   "outputs": [
    {
     "data": {
      "text/plain": [
       "['banana', 'apple', 'fig', 'raspberry', 'strawberry', 'cherry']"
      ]
     },
     "execution_count": 13,
     "metadata": {},
     "output_type": "execute_result"
    }
   ],
   "source": [
    "sorted(fruits, key=reverse)"
   ]
  },
  {
   "cell_type": "markdown",
   "id": "a5b094b6-8b31-4aae-a7d6-9a7cd639199b",
   "metadata": {},
   "source": [
    "## 예제6"
   ]
  },
  {
   "cell_type": "code",
   "execution_count": 14,
   "id": "e4aa4ce7-9dca-4a31-aae2-c65d40bb363e",
   "metadata": {},
   "outputs": [
    {
     "data": {
      "text/plain": [
       "[1, 1, 2, 6, 24, 120]"
      ]
     },
     "execution_count": 14,
     "metadata": {},
     "output_type": "execute_result"
    }
   ],
   "source": [
    "list(map(fact, range(6)))"
   ]
  },
  {
   "cell_type": "code",
   "execution_count": 15,
   "id": "35bd12df-5f46-4111-93a3-c9e75a6b2aae",
   "metadata": {},
   "outputs": [
    {
     "data": {
      "text/plain": [
       "[1, 1, 2, 6, 24, 120]"
      ]
     },
     "execution_count": 15,
     "metadata": {},
     "output_type": "execute_result"
    }
   ],
   "source": [
    "[fact(n) for n in range(6)]"
   ]
  },
  {
   "cell_type": "code",
   "execution_count": 16,
   "id": "c4557b0d-7d35-4af1-a4c4-1f5b7dfeb08d",
   "metadata": {},
   "outputs": [
    {
     "data": {
      "text/plain": [
       "[1, 6, 120]"
      ]
     },
     "execution_count": 16,
     "metadata": {},
     "output_type": "execute_result"
    }
   ],
   "source": [
    "list(map(factorial, filter(lambda n: n%2, range(6))))"
   ]
  },
  {
   "cell_type": "code",
   "execution_count": 17,
   "id": "2705b772-1288-4fdc-8bd6-c844c2dc812d",
   "metadata": {},
   "outputs": [
    {
     "data": {
      "text/plain": [
       "[1, 6, 120]"
      ]
     },
     "execution_count": 17,
     "metadata": {},
     "output_type": "execute_result"
    }
   ],
   "source": [
    "[factorial(n) for n in range(6) if n%2]"
   ]
  },
  {
   "cell_type": "markdown",
   "id": "ca967184-018f-44fa-8300-751f3a2f6eb5",
   "metadata": {},
   "source": [
    "## 예제7"
   ]
  },
  {
   "cell_type": "code",
   "execution_count": 18,
   "id": "797bdd6e-7419-4184-9577-36b1438b4898",
   "metadata": {},
   "outputs": [
    {
     "data": {
      "text/plain": [
       "['banana', 'apple', 'fig', 'raspberry', 'strawberry', 'cherry']"
      ]
     },
     "execution_count": 18,
     "metadata": {},
     "output_type": "execute_result"
    }
   ],
   "source": [
    "fruits = ['strawberry', 'fig', 'apple', 'cherry', 'raspberry', 'banana']\n",
    "sorted(fruits, key=lambda word: word[::-1])"
   ]
  },
  {
   "cell_type": "markdown",
   "id": "d6d1fd57-3474-4709-a5ae-f1a4d070b2ad",
   "metadata": {},
   "source": [
    "## 예제8"
   ]
  },
  {
   "cell_type": "code",
   "execution_count": 19,
   "id": "af7de77e-8973-4fbd-810b-829a664db953",
   "metadata": {},
   "outputs": [
    {
     "data": {
      "text/plain": [
       "(<function abs(x, /)>, str, 13)"
      ]
     },
     "execution_count": 19,
     "metadata": {},
     "output_type": "execute_result"
    }
   ],
   "source": [
    "abs, str, 13"
   ]
  },
  {
   "cell_type": "code",
   "execution_count": 20,
   "id": "0ef28b83-ba99-4d31-a513-f0008bfe0093",
   "metadata": {},
   "outputs": [
    {
     "data": {
      "text/plain": [
       "[True, True, False]"
      ]
     },
     "execution_count": 20,
     "metadata": {},
     "output_type": "execute_result"
    }
   ],
   "source": [
    "[callable(obj) for obj in (abs, str, 13)]"
   ]
  },
  {
   "cell_type": "markdown",
   "id": "27a92128-320c-4ddd-aadc-8d7641cff14e",
   "metadata": {},
   "source": [
    "## 예제9"
   ]
  },
  {
   "cell_type": "code",
   "execution_count": 21,
   "id": "ce618185-8503-4cd8-876d-1e2dddb1c8b1",
   "metadata": {},
   "outputs": [],
   "source": [
    "import random\n",
    "\n",
    "class BingoCage:\n",
    "\n",
    "    def __init__(self, items):\n",
    "        self._items = list(items)\n",
    "        random.shuffle(self._items)\n",
    "        \n",
    "    def pick(self):\n",
    "        try:\n",
    "            return self._items.pop()\n",
    "        except:\n",
    "            raise LookupError('pick from empty BingoCage')\n",
    "    def __call__(self):\n",
    "        return self.pick()"
   ]
  },
  {
   "cell_type": "markdown",
   "id": "a6e4cbbb-8fd0-448d-bbe5-72637af7535e",
   "metadata": {},
   "source": [
    "## 예제10"
   ]
  },
  {
   "cell_type": "code",
   "execution_count": 22,
   "id": "a2895aea-791b-42a2-bd95-008bb4ff55a3",
   "metadata": {},
   "outputs": [
    {
     "data": {
      "text/plain": [
       "2"
      ]
     },
     "execution_count": 22,
     "metadata": {},
     "output_type": "execute_result"
    }
   ],
   "source": [
    "bingo = BingoCage(range(3))\n",
    "bingo.pick()"
   ]
  },
  {
   "cell_type": "code",
   "execution_count": 23,
   "id": "b66c5509-fb59-4e0e-8bed-61b12aa2ba29",
   "metadata": {},
   "outputs": [
    {
     "data": {
      "text/plain": [
       "0"
      ]
     },
     "execution_count": 23,
     "metadata": {},
     "output_type": "execute_result"
    }
   ],
   "source": [
    "bingo()"
   ]
  },
  {
   "cell_type": "code",
   "execution_count": 24,
   "id": "b26a4468-86ff-4773-8039-bef12c05ea47",
   "metadata": {},
   "outputs": [
    {
     "data": {
      "text/plain": [
       "True"
      ]
     },
     "execution_count": 24,
     "metadata": {},
     "output_type": "execute_result"
    }
   ],
   "source": [
    "callable(bingo)"
   ]
  },
  {
   "cell_type": "code",
   "execution_count": 25,
   "id": "1d4b5bd9-79a0-4c4b-925e-0ae79e5cdf03",
   "metadata": {},
   "outputs": [
    {
     "data": {
      "text/plain": [
       "1"
      ]
     },
     "execution_count": 25,
     "metadata": {},
     "output_type": "execute_result"
    }
   ],
   "source": [
    "bingo()"
   ]
  },
  {
   "cell_type": "markdown",
   "id": "9d137d6e-aaf9-466c-9c0c-4b1ed18f042b",
   "metadata": {},
   "source": [
    "## 예제11"
   ]
  },
  {
   "cell_type": "code",
   "execution_count": 26,
   "id": "cc6218ce-60db-4d00-a34a-8f641d4bde6f",
   "metadata": {},
   "outputs": [
    {
     "ename": "LookupError",
     "evalue": "pick from empty BingoCage",
     "output_type": "error",
     "traceback": [
      "\u001b[1;31m---------------------------------------------------------------------------\u001b[0m",
      "\u001b[1;31mIndexError\u001b[0m                                Traceback (most recent call last)",
      "Cell \u001b[1;32mIn[21], line 11\u001b[0m, in \u001b[0;36mBingoCage.pick\u001b[1;34m(self)\u001b[0m\n\u001b[0;32m     10\u001b[0m \u001b[38;5;28;01mtry\u001b[39;00m:\n\u001b[1;32m---> 11\u001b[0m     \u001b[38;5;28;01mreturn\u001b[39;00m \u001b[38;5;28mself\u001b[39m\u001b[38;5;241m.\u001b[39m_items\u001b[38;5;241m.\u001b[39mpop()\n\u001b[0;32m     12\u001b[0m \u001b[38;5;28;01mexcept\u001b[39;00m:\n",
      "\u001b[1;31mIndexError\u001b[0m: pop from empty list",
      "\nDuring handling of the above exception, another exception occurred:\n",
      "\u001b[1;31mLookupError\u001b[0m                               Traceback (most recent call last)",
      "Cell \u001b[1;32mIn[26], line 1\u001b[0m\n\u001b[1;32m----> 1\u001b[0m bingo()\n",
      "Cell \u001b[1;32mIn[21], line 15\u001b[0m, in \u001b[0;36mBingoCage.__call__\u001b[1;34m(self)\u001b[0m\n\u001b[0;32m     14\u001b[0m \u001b[38;5;28;01mdef\u001b[39;00m \u001b[38;5;21m__call__\u001b[39m(\u001b[38;5;28mself\u001b[39m):\n\u001b[1;32m---> 15\u001b[0m     \u001b[38;5;28;01mreturn\u001b[39;00m \u001b[38;5;28mself\u001b[39m\u001b[38;5;241m.\u001b[39mpick()\n",
      "Cell \u001b[1;32mIn[21], line 13\u001b[0m, in \u001b[0;36mBingoCage.pick\u001b[1;34m(self)\u001b[0m\n\u001b[0;32m     11\u001b[0m     \u001b[38;5;28;01mreturn\u001b[39;00m \u001b[38;5;28mself\u001b[39m\u001b[38;5;241m.\u001b[39m_items\u001b[38;5;241m.\u001b[39mpop()\n\u001b[0;32m     12\u001b[0m \u001b[38;5;28;01mexcept\u001b[39;00m:\n\u001b[1;32m---> 13\u001b[0m     \u001b[38;5;28;01mraise\u001b[39;00m \u001b[38;5;167;01mLookupError\u001b[39;00m(\u001b[38;5;124m'\u001b[39m\u001b[38;5;124mpick from empty BingoCage\u001b[39m\u001b[38;5;124m'\u001b[39m)\n",
      "\u001b[1;31mLookupError\u001b[0m: pick from empty BingoCage"
     ]
    }
   ],
   "source": [
    "bingo()"
   ]
  },
  {
   "cell_type": "markdown",
   "id": "f6f7ca02-88e8-4c32-9558-f7d5095d38e7",
   "metadata": {},
   "source": [
    "## 예제12"
   ]
  },
  {
   "cell_type": "code",
   "execution_count": 30,
   "id": "f12731cf-fff4-40ae-a440-ff320ecc5d69",
   "metadata": {},
   "outputs": [],
   "source": [
    "def tag(name, *content, cls=None, **attrs):\n",
    "    \"\"\"하나 이상의 HTML 태그를 생성\"\"\"\n",
    "    if cls is not None:\n",
    "        attrs['class'] = cls\n",
    "    if attrs:\n",
    "        attr_str = ''.join('%s=\"%s\"' % (attr, value)\n",
    "                           for attr, value in sorted(attrs.items()))\n",
    "    else: \n",
    "        attr_str = ''\n",
    "    if content:\n",
    "        return '\\n'.join('<%s%s>%s/%s>' %\n",
    "                         (name, attr_str, c, name) for c in content)\n",
    "    else:\n",
    "        return '<%s%s />' % (name, attr_str)"
   ]
  },
  {
   "cell_type": "markdown",
   "id": "bf11d1b3-d179-4bb2-bc4d-c7ec3cc3b978",
   "metadata": {},
   "source": [
    "## 예제13"
   ]
  },
  {
   "cell_type": "code",
   "execution_count": 31,
   "id": "adb70adc-93f8-4cb8-9dcc-3c8fc89ca744",
   "metadata": {},
   "outputs": [
    {
     "data": {
      "text/plain": [
       "'<br />'"
      ]
     },
     "execution_count": 31,
     "metadata": {},
     "output_type": "execute_result"
    }
   ],
   "source": [
    "tag('br')"
   ]
  },
  {
   "cell_type": "code",
   "execution_count": 32,
   "id": "4e5e9e48-5822-4e7b-a556-32583a471be6",
   "metadata": {},
   "outputs": [
    {
     "data": {
      "text/plain": [
       "'<p>hello/p>'"
      ]
     },
     "execution_count": 32,
     "metadata": {},
     "output_type": "execute_result"
    }
   ],
   "source": [
    "tag('p', 'hello')"
   ]
  },
  {
   "cell_type": "code",
   "execution_count": 33,
   "id": "df7a031e-a880-4397-8c9b-50350400c229",
   "metadata": {},
   "outputs": [
    {
     "name": "stdout",
     "output_type": "stream",
     "text": [
      "<p>hello/p>\n",
      "<p>world/p>\n"
     ]
    }
   ],
   "source": [
    "print(tag('p', 'hello', 'world'))"
   ]
  },
  {
   "cell_type": "code",
   "execution_count": 34,
   "id": "e99bd313-fb77-43a0-8b03-00d87b990343",
   "metadata": {},
   "outputs": [
    {
     "data": {
      "text/plain": [
       "'<pid=\"33\">hello/p>'"
      ]
     },
     "execution_count": 34,
     "metadata": {},
     "output_type": "execute_result"
    }
   ],
   "source": [
    "tag('p', 'hello', id=33)"
   ]
  },
  {
   "cell_type": "markdown",
   "id": "baa6b0ad-8bc9-4e45-ad34-c689a294dabe",
   "metadata": {},
   "source": [
    "## 예제14"
   ]
  },
  {
   "cell_type": "code",
   "execution_count": 35,
   "id": "2f7a43e8-453f-4e7c-ac6b-5018dcac9c5f",
   "metadata": {},
   "outputs": [
    {
     "name": "stdout",
     "output_type": "stream",
     "text": [
      "<pclass=\"sidebar\">hello/p>\n",
      "<pclass=\"sidebar\">world/p>\n"
     ]
    }
   ],
   "source": [
    "print(tag('p', 'hello', 'world', cls='sidebar'))"
   ]
  },
  {
   "cell_type": "code",
   "execution_count": 36,
   "id": "943b301e-3b5f-44dc-b0c9-dc888bf5d37e",
   "metadata": {},
   "outputs": [
    {
     "data": {
      "text/plain": [
       "'<imgcontent=\"testing\" />'"
      ]
     },
     "execution_count": 36,
     "metadata": {},
     "output_type": "execute_result"
    }
   ],
   "source": [
    "tag(content='testing', name='img')"
   ]
  },
  {
   "cell_type": "code",
   "execution_count": 38,
   "id": "88d82e2d-b294-42c5-8a9a-3c22576d40b1",
   "metadata": {},
   "outputs": [
    {
     "data": {
      "text/plain": [
       "'<imgclass=\"framed\"src=\"sunset.jpg\"title=\"Sunset Boulevard\" />'"
      ]
     },
     "execution_count": 38,
     "metadata": {},
     "output_type": "execute_result"
    }
   ],
   "source": [
    "my_tag = {'name':'img', 'title':'Sunset Boulevard',\n",
    "          'src':'sunset.jpg', 'cls':'framed'}\n",
    "tag(**my_tag) # 명명된 매개변수 외 나머지는 **attrs에 전달"
   ]
  },
  {
   "cell_type": "markdown",
   "id": "f265e76b-2468-4879-b5ec-ec9721829f9b",
   "metadata": {},
   "source": [
    "## 예제15"
   ]
  },
  {
   "cell_type": "code",
   "execution_count": 39,
   "id": "ab4c574c-65c1-46ec-babb-7c9415444fb9",
   "metadata": {},
   "outputs": [
    {
     "data": {
      "text/plain": [
       "(1, 2)"
      ]
     },
     "execution_count": 39,
     "metadata": {},
     "output_type": "execute_result"
    }
   ],
   "source": [
    "def f(a, *, b):\n",
    "    return a, b\n",
    "f(1, b=2)"
   ]
  },
  {
   "cell_type": "markdown",
   "id": "9b69b304-c073-49cd-acf8-a02fd9841f3a",
   "metadata": {},
   "source": [
    "## 예제16"
   ]
  },
  {
   "cell_type": "code",
   "execution_count": 43,
   "id": "a7c107d0-f650-460e-b86f-3855ddffb942",
   "metadata": {},
   "outputs": [
    {
     "name": "stdout",
     "output_type": "stream",
     "text": [
      "Name:, Alice, Age: 30, Admin: True\n"
     ]
    },
    {
     "ename": "TypeError",
     "evalue": "create_user() takes 1 positional argument but 2 were given",
     "output_type": "error",
     "traceback": [
      "\u001b[1;31m---------------------------------------------------------------------------\u001b[0m",
      "\u001b[1;31mTypeError\u001b[0m                                 Traceback (most recent call last)",
      "Cell \u001b[1;32mIn[43], line 5\u001b[0m\n\u001b[0;32m      2\u001b[0m     \u001b[38;5;28mprint\u001b[39m(\u001b[38;5;124mf\u001b[39m\u001b[38;5;124m\"\u001b[39m\u001b[38;5;124mName:, \u001b[39m\u001b[38;5;132;01m{\u001b[39;00mname\u001b[38;5;132;01m}\u001b[39;00m\u001b[38;5;124m, Age: \u001b[39m\u001b[38;5;132;01m{\u001b[39;00mage\u001b[38;5;132;01m}\u001b[39;00m\u001b[38;5;124m, Admin: \u001b[39m\u001b[38;5;132;01m{\u001b[39;00mis_admin\u001b[38;5;132;01m}\u001b[39;00m\u001b[38;5;124m\"\u001b[39m)\n\u001b[0;32m      4\u001b[0m create_user(\u001b[38;5;124m\"\u001b[39m\u001b[38;5;124mAlice\u001b[39m\u001b[38;5;124m\"\u001b[39m, age\u001b[38;5;241m=\u001b[39m\u001b[38;5;241m30\u001b[39m, is_admin\u001b[38;5;241m=\u001b[39m\u001b[38;5;28;01mTrue\u001b[39;00m) \u001b[38;5;66;03m#올바른 추출\u001b[39;00m\n\u001b[1;32m----> 5\u001b[0m create_user(\u001b[38;5;124m\"\u001b[39m\u001b[38;5;124mBob\u001b[39m\u001b[38;5;124m\"\u001b[39m, \u001b[38;5;241m25\u001b[39m)\n",
      "\u001b[1;31mTypeError\u001b[0m: create_user() takes 1 positional argument but 2 were given"
     ]
    }
   ],
   "source": [
    "def create_user(name, *, age, is_admin=False):\n",
    "    print(f\"Name:, {name}, Age: {age}, Admin: {is_admin}\")\n",
    "\n",
    "create_user(\"Alice\", age=30, is_admin=True) #올바른 추출\n",
    "create_user(\"Bob\", 25) # TypeError 발생: age 인자가 키워드로 전달되어야 함"
   ]
  },
  {
   "cell_type": "markdown",
   "id": "9e9a767d-6351-4bd6-8ec3-3155b17e4636",
   "metadata": {},
   "source": [
    "## 예제17"
   ]
  },
  {
   "cell_type": "code",
   "execution_count": 45,
   "id": "cae990ab-0d74-4ad6-b26f-b21d0be7a446",
   "metadata": {},
   "outputs": [],
   "source": [
    "def clip(text, max_len=80):\n",
    "    \"\"\"max_len 앞이나 뒤의 마지막 공백에서 잘라낸 텍스트를 반환한다.\"\"\"\n",
    "\n",
    "    end=None\n",
    "    if len(text) > max_len:\n",
    "        space_before = text.rfind('', 0, max_len)\n",
    "        # 0부터 max_len 사이에서 역순으로 ''를 찾음\n",
    "        if space_before >=0:\n",
    "            end = space_before\n",
    "        else:\n",
    "            space_after = text.frind('', max_len)\n",
    "            #max_len부터 ''를 찾음\n",
    "            if space_after >= 0:\n",
    "                end = space_after\n",
    "    if end is None: #공백이 없다.\n",
    "        end = len(text)\n",
    "    return text[:end].rstrip()"
   ]
  },
  {
   "cell_type": "markdown",
   "id": "8846ce6d-8805-489c-89e9-e5ad7dcc74dc",
   "metadata": {},
   "source": [
    "## 예제18"
   ]
  },
  {
   "cell_type": "code",
   "execution_count": 48,
   "id": "6594b088-2d89-4b1f-9c1a-892386678531",
   "metadata": {},
   "outputs": [
    {
     "data": {
      "text/plain": [
       "(80,)"
      ]
     },
     "execution_count": 48,
     "metadata": {},
     "output_type": "execute_result"
    }
   ],
   "source": [
    "clip.__defaults__"
   ]
  },
  {
   "cell_type": "code",
   "execution_count": 49,
   "id": "9fa36d6b-d5d6-4b94-9fd5-064f38073e3e",
   "metadata": {},
   "outputs": [
    {
     "data": {
      "text/plain": [
       "<code object clip at 0x000001A0019666B0, file \"C:\\Users\\User\\AppData\\Local\\Temp\\ipykernel_6176\\915720050.py\", line 1>"
      ]
     },
     "execution_count": 49,
     "metadata": {},
     "output_type": "execute_result"
    }
   ],
   "source": [
    "clip.__code__"
   ]
  },
  {
   "cell_type": "code",
   "execution_count": 50,
   "id": "8fc4b5a9-3baf-4faa-8657-99dbed406913",
   "metadata": {},
   "outputs": [
    {
     "data": {
      "text/plain": [
       "('text', 'max_len', 'end', 'space_before', 'space_after')"
      ]
     },
     "execution_count": 50,
     "metadata": {},
     "output_type": "execute_result"
    }
   ],
   "source": [
    "clip.__code__.co_varnames"
   ]
  },
  {
   "cell_type": "code",
   "execution_count": 51,
   "id": "63c73c33-2012-4b1e-84af-dc945364ced1",
   "metadata": {},
   "outputs": [
    {
     "data": {
      "text/plain": [
       "2"
      ]
     },
     "execution_count": 51,
     "metadata": {},
     "output_type": "execute_result"
    }
   ],
   "source": [
    "clip.__code__.co_argcount"
   ]
  },
  {
   "cell_type": "markdown",
   "id": "479a4096-595c-41a7-b980-53b97557681c",
   "metadata": {},
   "source": [
    "## 예제19"
   ]
  },
  {
   "cell_type": "code",
   "execution_count": 52,
   "id": "cfc47350-7b00-4c85-8893-fb63605aa267",
   "metadata": {},
   "outputs": [
    {
     "data": {
      "text/plain": [
       "<Signature (text, max_len=80)>"
      ]
     },
     "execution_count": 52,
     "metadata": {},
     "output_type": "execute_result"
    }
   ],
   "source": [
    "from inspect import signature\n",
    "sig = signature(clip)\n",
    "sig #doctest: +ELLIPSIS"
   ]
  },
  {
   "cell_type": "code",
   "execution_count": 53,
   "id": "d56efee1-b600-482a-8359-22b05d91954b",
   "metadata": {},
   "outputs": [
    {
     "data": {
      "text/plain": [
       "'(text, max_len=80)'"
      ]
     },
     "execution_count": 53,
     "metadata": {},
     "output_type": "execute_result"
    }
   ],
   "source": [
    "str(sig)"
   ]
  },
  {
   "cell_type": "code",
   "execution_count": 56,
   "id": "b0b07aa7-c639-43d0-b69c-378c5e20680d",
   "metadata": {},
   "outputs": [
    {
     "name": "stdout",
     "output_type": "stream",
     "text": [
      "POSITIONAL_OR_KEYWORD : text = <class 'inspect._empty'>\n",
      "POSITIONAL_OR_KEYWORD : max_len = 80\n"
     ]
    }
   ],
   "source": [
    "for name, param in sig.parameters.items():\n",
    "    print(param.kind, \":\", name, \"=\", param.default)"
   ]
  },
  {
   "cell_type": "markdown",
   "id": "f33c9d7d-fcb3-415a-9ae4-b0bd646cbfde",
   "metadata": {},
   "source": [
    "## 예제20"
   ]
  },
  {
   "cell_type": "code",
   "execution_count": 57,
   "id": "f2f222dc-90bd-4a0b-b13e-cf9064b48cda",
   "metadata": {},
   "outputs": [],
   "source": [
    "from inspect import signature\n",
    "sig = signature(tag)"
   ]
  },
  {
   "cell_type": "code",
   "execution_count": 58,
   "id": "78fb8b07-9817-4779-8350-1972d39bd91c",
   "metadata": {},
   "outputs": [
    {
     "data": {
      "text/plain": [
       "{'name': 'img',\n",
       " 'title': 'Sunset Boulevard',\n",
       " 'src': 'sunset.jpg',\n",
       " 'cls': 'framed'}"
      ]
     },
     "execution_count": 58,
     "metadata": {},
     "output_type": "execute_result"
    }
   ],
   "source": [
    "my_tag"
   ]
  },
  {
   "cell_type": "code",
   "execution_count": 63,
   "id": "5a5e5461-c7da-44c3-b2d2-f13cfe206082",
   "metadata": {},
   "outputs": [
    {
     "data": {
      "text/plain": [
       "<BoundArguments (name='img', cls='framed', attrs={'title': 'Sunset Boulevard', 'src': 'sunset.jpg'})>"
      ]
     },
     "execution_count": 63,
     "metadata": {},
     "output_type": "execute_result"
    }
   ],
   "source": [
    "bound_args = sig.bind(**my_tag)\n",
    "bound_args"
   ]
  },
  {
   "cell_type": "code",
   "execution_count": 64,
   "id": "63484973-584a-402d-8de0-b41a63db71c8",
   "metadata": {},
   "outputs": [
    {
     "name": "stdout",
     "output_type": "stream",
     "text": [
      "name + img\n",
      "cls + framed\n",
      "attrs + {'title': 'Sunset Boulevard', 'src': 'sunset.jpg'}\n"
     ]
    }
   ],
   "source": [
    "for name, value in bound_args.arguments.items():\n",
    "    print(name, '+', value)"
   ]
  },
  {
   "cell_type": "code",
   "execution_count": 65,
   "id": "55656ed8-da28-4f5a-8a33-753eac6ce507",
   "metadata": {},
   "outputs": [],
   "source": [
    "del my_tag['name']"
   ]
  },
  {
   "cell_type": "code",
   "execution_count": 66,
   "id": "663da411-4f7a-4bda-a433-8b4f2e793906",
   "metadata": {},
   "outputs": [
    {
     "ename": "TypeError",
     "evalue": "missing a required argument: 'name'",
     "output_type": "error",
     "traceback": [
      "\u001b[1;31m---------------------------------------------------------------------------\u001b[0m",
      "\u001b[1;31mTypeError\u001b[0m                                 Traceback (most recent call last)",
      "Cell \u001b[1;32mIn[66], line 1\u001b[0m\n\u001b[1;32m----> 1\u001b[0m bound_args \u001b[38;5;241m=\u001b[39m sig\u001b[38;5;241m.\u001b[39mbind(\u001b[38;5;241m*\u001b[39m\u001b[38;5;241m*\u001b[39mmy_tag)\n\u001b[0;32m      2\u001b[0m bound_args\n",
      "File \u001b[1;32mC:\\ProgramData\\anaconda3\\Lib\\inspect.py:3212\u001b[0m, in \u001b[0;36mSignature.bind\u001b[1;34m(self, *args, **kwargs)\u001b[0m\n\u001b[0;32m   3207\u001b[0m \u001b[38;5;28;01mdef\u001b[39;00m \u001b[38;5;21mbind\u001b[39m(\u001b[38;5;28mself\u001b[39m, \u001b[38;5;241m/\u001b[39m, \u001b[38;5;241m*\u001b[39margs, \u001b[38;5;241m*\u001b[39m\u001b[38;5;241m*\u001b[39mkwargs):\n\u001b[0;32m   3208\u001b[0m \u001b[38;5;250m    \u001b[39m\u001b[38;5;124;03m\"\"\"Get a BoundArguments object, that maps the passed `args`\u001b[39;00m\n\u001b[0;32m   3209\u001b[0m \u001b[38;5;124;03m    and `kwargs` to the function's signature.  Raises `TypeError`\u001b[39;00m\n\u001b[0;32m   3210\u001b[0m \u001b[38;5;124;03m    if the passed arguments can not be bound.\u001b[39;00m\n\u001b[0;32m   3211\u001b[0m \u001b[38;5;124;03m    \"\"\"\u001b[39;00m\n\u001b[1;32m-> 3212\u001b[0m     \u001b[38;5;28;01mreturn\u001b[39;00m \u001b[38;5;28mself\u001b[39m\u001b[38;5;241m.\u001b[39m_bind(args, kwargs)\n",
      "File \u001b[1;32mC:\\ProgramData\\anaconda3\\Lib\\inspect.py:3127\u001b[0m, in \u001b[0;36mSignature._bind\u001b[1;34m(self, args, kwargs, partial)\u001b[0m\n\u001b[0;32m   3125\u001b[0m                 msg \u001b[38;5;241m=\u001b[39m \u001b[38;5;124m'\u001b[39m\u001b[38;5;124mmissing a required argument: \u001b[39m\u001b[38;5;132;01m{arg!r}\u001b[39;00m\u001b[38;5;124m'\u001b[39m\n\u001b[0;32m   3126\u001b[0m                 msg \u001b[38;5;241m=\u001b[39m msg\u001b[38;5;241m.\u001b[39mformat(arg\u001b[38;5;241m=\u001b[39mparam\u001b[38;5;241m.\u001b[39mname)\n\u001b[1;32m-> 3127\u001b[0m                 \u001b[38;5;28;01mraise\u001b[39;00m \u001b[38;5;167;01mTypeError\u001b[39;00m(msg) \u001b[38;5;28;01mfrom\u001b[39;00m \u001b[38;5;28;01mNone\u001b[39;00m\n\u001b[0;32m   3128\u001b[0m \u001b[38;5;28;01melse\u001b[39;00m:\n\u001b[0;32m   3129\u001b[0m     \u001b[38;5;66;03m# We have a positional argument to process\u001b[39;00m\n\u001b[0;32m   3130\u001b[0m     \u001b[38;5;28;01mtry\u001b[39;00m:\n",
      "\u001b[1;31mTypeError\u001b[0m: missing a required argument: 'name'"
     ]
    }
   ],
   "source": [
    "bound_args = sig.bind(**my_tag)\n",
    "bound_args # 필수 인수인 name이 없으므로 에러가 발생"
   ]
  },
  {
   "cell_type": "markdown",
   "id": "cee3b298-b685-4cc6-bbec-d93d8aab43d1",
   "metadata": {},
   "source": [
    "## 예제21"
   ]
  },
  {
   "cell_type": "code",
   "execution_count": 68,
   "id": "9d75b12c-8cc8-4303-9b73-f32242f987c0",
   "metadata": {},
   "outputs": [],
   "source": [
    "def clip_fa(text:str, max_len:'int>0'=80) ->str:\n",
    "    \"\"\"max_len 앞이나 뒤의 마지막 공백에서 잘라낸 텍스트를 반환한다.\"\"\"\n",
    "\n",
    "    end=None\n",
    "    if len(text) > max_len:\n",
    "        space_before = text.rfind('', 0, max_len)\n",
    "        #0부터 max_len 사이에서 역순으로 ''를 찾음\n",
    "        if space_before >=0:\n",
    "            end = space_before\n",
    "        else:\n",
    "            space_after = text.rfind('', max_len)\n",
    "            #max_len부터 ''를 찾음\n",
    "            if space_after >=0:\n",
    "                end = space_after\n",
    "    if end is None:\n",
    "        end = len(text)\n",
    "    return text[:end].rstrip()"
   ]
  },
  {
   "cell_type": "markdown",
   "id": "f8974a5f-f181-4790-84dc-c411d0233ec3",
   "metadata": {},
   "source": [
    "## 예제22"
   ]
  },
  {
   "cell_type": "code",
   "execution_count": 69,
   "id": "704ae3da-0249-41d1-9315-42ce54b5176c",
   "metadata": {},
   "outputs": [
    {
     "data": {
      "text/plain": [
       "{'text': str, 'max_len': 'int>0', 'return': str}"
      ]
     },
     "execution_count": 69,
     "metadata": {},
     "output_type": "execute_result"
    }
   ],
   "source": [
    "clip_fa.__annotations__"
   ]
  },
  {
   "cell_type": "markdown",
   "id": "6cbd7fca-2869-44c3-a149-54be2f89a67c",
   "metadata": {},
   "source": [
    "## 예제23"
   ]
  },
  {
   "cell_type": "code",
   "execution_count": 70,
   "id": "12063e17-0272-4a22-90dd-f4aade3f359b",
   "metadata": {},
   "outputs": [
    {
     "data": {
      "text/plain": [
       "{'text': str, 'max_len': 'int>0', 'return': str}"
      ]
     },
     "execution_count": 70,
     "metadata": {},
     "output_type": "execute_result"
    }
   ],
   "source": [
    "clip_fa.__annotations__"
   ]
  },
  {
   "cell_type": "code",
   "execution_count": 71,
   "id": "a5ba8c47-5621-4651-8670-9a9457113235",
   "metadata": {},
   "outputs": [],
   "source": [
    "sig2 = signature(clip_fa)"
   ]
  },
  {
   "cell_type": "code",
   "execution_count": 72,
   "id": "2b5e180d-c0b9-4799-935b-6ca4c7fad0d2",
   "metadata": {},
   "outputs": [
    {
     "data": {
      "text/plain": [
       "str"
      ]
     },
     "execution_count": 72,
     "metadata": {},
     "output_type": "execute_result"
    }
   ],
   "source": [
    "sig2.return_annotation"
   ]
  },
  {
   "cell_type": "code",
   "execution_count": 73,
   "id": "ad04d025-6b57-46cd-a03c-1423cb742525",
   "metadata": {},
   "outputs": [
    {
     "name": "stdout",
     "output_type": "stream",
     "text": [
      "<class 'str'> : text = <class 'inspect._empty'>\n",
      "'int>0'       : max_len = 80\n"
     ]
    }
   ],
   "source": [
    "for param in sig2.parameters.values():\n",
    "    note = repr(param.annotation).ljust(13)\n",
    "    print(note, ':', param.name, '=', param.default)"
   ]
  },
  {
   "cell_type": "markdown",
   "id": "d488b899-973b-455a-b57a-7242ab462c77",
   "metadata": {},
   "source": [
    "## 예제24"
   ]
  },
  {
   "cell_type": "code",
   "execution_count": 77,
   "id": "51fa84ac-4dfd-4a15-8d2c-13ac32fc0d8c",
   "metadata": {},
   "outputs": [],
   "source": [
    "from functools import reduce"
   ]
  },
  {
   "cell_type": "code",
   "execution_count": 78,
   "id": "07d89097-419a-49da-9f71-d869f10a6490",
   "metadata": {},
   "outputs": [],
   "source": [
    "def fact(n):\n",
    "    return reduce(lambda a, b: a*b, range(1, n+1))"
   ]
  },
  {
   "cell_type": "code",
   "execution_count": 79,
   "id": "f6a9b6d0-eb59-4825-8549-d2cd6e021098",
   "metadata": {},
   "outputs": [
    {
     "data": {
      "text/plain": [
       "3628800"
      ]
     },
     "execution_count": 79,
     "metadata": {},
     "output_type": "execute_result"
    }
   ],
   "source": [
    "fact(10)"
   ]
  },
  {
   "cell_type": "markdown",
   "id": "acce40bf-5a6a-4ed1-9094-ee206a5bd913",
   "metadata": {},
   "source": [
    "## 예제25"
   ]
  },
  {
   "cell_type": "code",
   "execution_count": 80,
   "id": "e16211f4-e769-4f84-a59c-cf0f5eb5e385",
   "metadata": {},
   "outputs": [],
   "source": [
    "from operator import mul"
   ]
  },
  {
   "cell_type": "code",
   "execution_count": 81,
   "id": "0baff66b-660a-4b29-98b1-931f92b2dc73",
   "metadata": {},
   "outputs": [],
   "source": [
    "def fact(n):\n",
    "    return reduce(mul, range(1, n+1))"
   ]
  },
  {
   "cell_type": "code",
   "execution_count": 87,
   "id": "edf527ec-5e12-4856-b943-98e1ef2ce28e",
   "metadata": {
    "scrolled": true
   },
   "outputs": [
    {
     "data": {
      "text/plain": [
       "3628800"
      ]
     },
     "execution_count": 87,
     "metadata": {},
     "output_type": "execute_result"
    }
   ],
   "source": [
    "fact(10)"
   ]
  },
  {
   "cell_type": "markdown",
   "id": "a0a6ad36-b218-4aaa-8d67-ce6fbfb10b89",
   "metadata": {},
   "source": [
    "## 예제26"
   ]
  },
  {
   "cell_type": "code",
   "execution_count": 85,
   "id": "ae7aeda9-f4a5-4a0b-b9bf-204f251d62b4",
   "metadata": {},
   "outputs": [],
   "source": [
    "metro_data = [\n",
    "    ('Tokyo', 'JP', 36.933, (35.689722, 139.691667)),\n",
    "    ('Delhi NCT', 'IN', 21.935, (25.613889, 77.208889)),\n",
    "    ('Mexico CITY', 'mx', 20.142, (19.433333, -99.133333)),\n",
    "    ('New York-Newark', 'US', 20.104, (40.808611, -74.020386)),\n",
    "    ('Sao Paulo', 'BR', 19.649, (-23.547778, -46.635833)),\n",
    "]"
   ]
  },
  {
   "cell_type": "code",
   "execution_count": 86,
   "id": "5d8c53b5-b324-4d0b-9d0e-9cc8577ec9c3",
   "metadata": {},
   "outputs": [
    {
     "name": "stdout",
     "output_type": "stream",
     "text": [
      "('Sao Paulo', 'BR', 19.649, (-23.547778, -46.635833))\n",
      "('Delhi NCT', 'IN', 21.935, (25.613889, 77.208889))\n",
      "('Tokyo', 'JP', 36.933, (35.689722, 139.691667))\n",
      "('New York-Newark', 'US', 20.104, (40.808611, -74.020386))\n",
      "('Mexico CITY', 'mx', 20.142, (19.433333, -99.133333))\n"
     ]
    }
   ],
   "source": [
    "from operator import itemgetter\n",
    "for city in sorted(metro_data, key=itemgetter(1)):\n",
    "    print(city)"
   ]
  },
  {
   "cell_type": "markdown",
   "id": "a6623447-998e-4c38-8e7a-934c944573e8",
   "metadata": {},
   "source": [
    "## 예제27"
   ]
  },
  {
   "cell_type": "code",
   "execution_count": 88,
   "id": "c840849d-3d68-408b-a1a5-e3fe473eb5ba",
   "metadata": {},
   "outputs": [
    {
     "name": "stdout",
     "output_type": "stream",
     "text": [
      "('JP', 'Tokyo')\n",
      "('IN', 'Delhi NCT')\n",
      "('mx', 'Mexico CITY')\n",
      "('US', 'New York-Newark')\n",
      "('BR', 'Sao Paulo')\n"
     ]
    }
   ],
   "source": [
    "cc_name = itemgetter(1,0)\n",
    "for city in metro_data:\n",
    "    print(cc_name(city))"
   ]
  },
  {
   "cell_type": "markdown",
   "id": "53be264a-1a8a-46d3-8864-fb1b774e2343",
   "metadata": {},
   "source": [
    "## 예제28"
   ]
  },
  {
   "cell_type": "code",
   "execution_count": 90,
   "id": "2a1bbb0a-9419-4a3d-b006-865174914e8c",
   "metadata": {},
   "outputs": [],
   "source": [
    "from collections import namedtuple\n",
    "LatLong = namedtuple('LatLong', 'lat long')\n",
    "Metropolis = namedtuple('Metropolis', 'name cc pop coord')\n",
    "metro_areas = [Metropolis(name, cc, pop, LatLong(lat, long))\n",
    "               for name, cc, pop, (lat, long) in metro_data]"
   ]
  },
  {
   "cell_type": "code",
   "execution_count": 91,
   "id": "c73b0389-1dfb-4ee8-aa0e-3eb14c4123a5",
   "metadata": {},
   "outputs": [
    {
     "data": {
      "text/plain": [
       "Metropolis(name='Tokyo', cc='JP', pop=36.933, coord=LatLong(lat=35.689722, long=139.691667))"
      ]
     },
     "execution_count": 91,
     "metadata": {},
     "output_type": "execute_result"
    }
   ],
   "source": [
    "metro_areas[0]"
   ]
  },
  {
   "cell_type": "code",
   "execution_count": 92,
   "id": "ae6ba7e7-e851-4316-bbce-79cf54e5fb45",
   "metadata": {},
   "outputs": [
    {
     "data": {
      "text/plain": [
       "35.689722"
      ]
     },
     "execution_count": 92,
     "metadata": {},
     "output_type": "execute_result"
    }
   ],
   "source": [
    "metro_areas[0].coord.lat"
   ]
  },
  {
   "cell_type": "code",
   "execution_count": 94,
   "id": "6cfa1772-8d31-447a-a23a-6a639a9a0900",
   "metadata": {},
   "outputs": [],
   "source": [
    "from operator import attrgetter\n",
    "name_lat = attrgetter('name', 'coord.lat')"
   ]
  },
  {
   "cell_type": "code",
   "execution_count": 95,
   "id": "2b012598-501f-4ece-81a7-a4b109454b2c",
   "metadata": {},
   "outputs": [
    {
     "data": {
      "text/plain": [
       "('Tokyo', 35.689722)"
      ]
     },
     "execution_count": 95,
     "metadata": {},
     "output_type": "execute_result"
    }
   ],
   "source": [
    "name_lat(metro_areas[0])"
   ]
  },
  {
   "cell_type": "markdown",
   "id": "6b929fe2-0761-47a4-ac87-1a291deae803",
   "metadata": {},
   "source": [
    "## 예제28"
   ]
  },
  {
   "cell_type": "code",
   "execution_count": 96,
   "id": "a26e0421-cd0b-4540-928a-bf588a30ed10",
   "metadata": {},
   "outputs": [
    {
     "name": "stdout",
     "output_type": "stream",
     "text": [
      "('Sao Paulo', -23.547778)\n",
      "('Mexico CITY', 19.433333)\n",
      "('Delhi NCT', 25.613889)\n",
      "('Tokyo', 35.689722)\n",
      "('New York-Newark', 40.808611)\n"
     ]
    }
   ],
   "source": [
    "for city in sorted(metro_areas, key=attrgetter('coord.lat')):\n",
    "    print(name_lat(city))"
   ]
  },
  {
   "cell_type": "code",
   "execution_count": 97,
   "id": "33e0717b-69c9-4535-84dc-77a84f01f17f",
   "metadata": {},
   "outputs": [
    {
     "data": {
      "text/plain": [
       "Metropolis(name='Tokyo', cc='JP', pop=36.933, coord=LatLong(lat=35.689722, long=139.691667))"
      ]
     },
     "execution_count": 97,
     "metadata": {},
     "output_type": "execute_result"
    }
   ],
   "source": [
    "#뜬금없는 언패킹 연습\n",
    "metro_areas2 = [Metropolis(name, cc, pop, LatLong(*loc))\n",
    "                for name, cc, pop, loc in metro_data]\n",
    "metro_areas2[0]"
   ]
  },
  {
   "cell_type": "markdown",
   "id": "2ada537b-2201-42b7-ac56-7cef1fbd5b59",
   "metadata": {},
   "source": [
    "## 예제29"
   ]
  },
  {
   "cell_type": "code",
   "execution_count": 98,
   "id": "4212cb34-035c-445e-bb0a-022ca6b4e36e",
   "metadata": {},
   "outputs": [],
   "source": [
    "from operator import methodcaller\n",
    "s = 'The time has come'\n",
    "upcase = methodcaller('upper')"
   ]
  },
  {
   "cell_type": "code",
   "execution_count": 99,
   "id": "b40be63d-40ac-4f1a-ae9f-83b130e6bedf",
   "metadata": {},
   "outputs": [
    {
     "data": {
      "text/plain": [
       "'THE TIME HAS COME'"
      ]
     },
     "execution_count": 99,
     "metadata": {},
     "output_type": "execute_result"
    }
   ],
   "source": [
    "upcase(s)"
   ]
  },
  {
   "cell_type": "code",
   "execution_count": 100,
   "id": "dbee9d56-5dec-462e-814a-f8bea0a938d8",
   "metadata": {},
   "outputs": [
    {
     "data": {
      "text/plain": [
       "'THE TIME HAS COME'"
      ]
     },
     "execution_count": 100,
     "metadata": {},
     "output_type": "execute_result"
    }
   ],
   "source": [
    "s.upper()"
   ]
  },
  {
   "cell_type": "code",
   "execution_count": 101,
   "id": "71c20d64-2a4e-47ad-9853-9fe282a81fe6",
   "metadata": {},
   "outputs": [
    {
     "data": {
      "text/plain": [
       "'-T-h-e- -t-i-m-e- -h-a-s- -c-o-m-e-'"
      ]
     },
     "execution_count": 101,
     "metadata": {},
     "output_type": "execute_result"
    }
   ],
   "source": [
    "hiphenate = methodcaller('replace', '','-')\n",
    "hiphenate(s)"
   ]
  },
  {
   "cell_type": "markdown",
   "id": "bfbd9085-5e95-4562-8e62-7338fdd390e7",
   "metadata": {},
   "source": [
    "## 예제30"
   ]
  },
  {
   "cell_type": "code",
   "execution_count": 102,
   "id": "89614db2-cd50-4262-8ce2-6ed7c0d31bca",
   "metadata": {},
   "outputs": [
    {
     "data": {
      "text/plain": [
       "21"
      ]
     },
     "execution_count": 102,
     "metadata": {},
     "output_type": "execute_result"
    }
   ],
   "source": [
    "from operator import mul\n",
    "from functools import partial\n",
    "triple = partial(mul, 3)\n",
    "triple(7)"
   ]
  },
  {
   "cell_type": "code",
   "execution_count": 103,
   "id": "b1eb581e-81e6-465c-8899-c941fbebea8d",
   "metadata": {},
   "outputs": [
    {
     "data": {
      "text/plain": [
       "[3, 6, 9, 12, 15, 18, 21, 24, 27]"
      ]
     },
     "execution_count": 103,
     "metadata": {},
     "output_type": "execute_result"
    }
   ],
   "source": [
    "list(map(triple, range(1, 10)))"
   ]
  },
  {
   "cell_type": "markdown",
   "id": "17e5cdbd-d4f0-44b1-9117-1228495d98b5",
   "metadata": {},
   "source": [
    "## 예제31"
   ]
  },
  {
   "cell_type": "code",
   "execution_count": 104,
   "id": "5cb2d0c4-567d-43c8-aafa-6c55f3ddc3c8",
   "metadata": {},
   "outputs": [],
   "source": [
    "import unicodedata\n",
    "nfc = partial(unicodedata.normalize, 'NFC')"
   ]
  },
  {
   "cell_type": "code",
   "execution_count": 105,
   "id": "9256d6d0-d449-4592-8d9d-ddc9ceccb30a",
   "metadata": {},
   "outputs": [
    {
     "data": {
      "text/plain": [
       "('cafe', 'café')"
      ]
     },
     "execution_count": 105,
     "metadata": {},
     "output_type": "execute_result"
    }
   ],
   "source": [
    "s1 = 'cafe'\n",
    "s2 = 'cafe\\u0301'\n",
    "s1, s2"
   ]
  },
  {
   "cell_type": "code",
   "execution_count": 106,
   "id": "feb54867-c9d9-417d-be52-513d3a766dd7",
   "metadata": {},
   "outputs": [
    {
     "data": {
      "text/plain": [
       "(False, False)"
      ]
     },
     "execution_count": 106,
     "metadata": {},
     "output_type": "execute_result"
    }
   ],
   "source": [
    "s1 == s2, nfc(s1) == nfc(s2)"
   ]
  },
  {
   "cell_type": "markdown",
   "id": "1000f85c-952e-4332-8f41-1c82f51b4b4a",
   "metadata": {},
   "source": [
    "## 예제32"
   ]
  },
  {
   "cell_type": "code",
   "execution_count": null,
   "id": "11907e79-72d3-4234-9319-a1ceeca15ccd",
   "metadata": {},
   "outputs": [],
   "source": [
    "tag\n",
    "picture = partial(tag, 'i"
   ]
  }
 ],
 "metadata": {
  "kernelspec": {
   "display_name": "Python 3 (ipykernel)",
   "language": "python",
   "name": "python3"
  },
  "language_info": {
   "codemirror_mode": {
    "name": "ipython",
    "version": 3
   },
   "file_extension": ".py",
   "mimetype": "text/x-python",
   "name": "python",
   "nbconvert_exporter": "python",
   "pygments_lexer": "ipython3",
   "version": "3.11.7"
  }
 },
 "nbformat": 4,
 "nbformat_minor": 5
}
